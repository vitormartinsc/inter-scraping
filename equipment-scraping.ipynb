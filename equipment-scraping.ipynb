{
 "cells": [
  {
   "cell_type": "code",
   "execution_count": 1,
   "id": "39ce9033-b9b3-4d96-87ff-ea21ccbfb71a",
   "metadata": {},
   "outputs": [],
   "source": [
    "from selenium import webdriver\n",
    "from selenium.webdriver.common.by import By\n",
    "from selenium.webdriver.chrome.service import Service\n",
    "from selenium.webdriver.support.ui import WebDriverWait\n",
    "from selenium.webdriver.support import expected_conditions as EC\n",
    "from selenium.common.exceptions import NoSuchElementException, ElementClickInterceptedException, StaleElementReferenceException\n",
    "import os\n",
    "import time\n",
    "import pandas as pd"
   ]
  },
  {
   "cell_type": "code",
   "execution_count": 2,
   "id": "8478ef96-4094-4f51-8374-fd266cd0ac4d",
   "metadata": {},
   "outputs": [],
   "source": [
    "pd.read_csv('equipment_data.csv').to_excel('equipment_data.xlsx')"
   ]
  },
  {
   "cell_type": "code",
   "execution_count": 3,
   "id": "2ec1861d-a0d1-4350-8757-3d40bf4282bb",
   "metadata": {},
   "outputs": [
    {
     "data": {
      "text/plain": [
       "'\\nhttps://gestao.granitopagamentos.com.br/Login/Index\\nsandro.leao@creditoessencial.com.br\\n11S@ndr01003\\n'"
      ]
     },
     "execution_count": 3,
     "metadata": {},
     "output_type": "execute_result"
    }
   ],
   "source": [
    "service = Service(\"C://Users//servi//inter-scraping//chromedriver-win64//chromedriver-win64//chromedriver.exe\")\n",
    "chrome_profile_path = r'C:\\Users\\servi\\AppData\\Local\\Google\\Chrome\\User Data\\Default'\n",
    "\n",
    "# Set up Chrome options\n",
    "# Configuração das opções do Chrome\n",
    "options = webdriver.ChromeOptions()\n",
    "options.add_argument(f\"user-data-dir={chrome_profile_path}\")\n",
    "options.add_experimental_option(\"detach\", True)  # Isso permite que o Chrome permaneça aberto após o script terminar\n",
    "\n",
    "# Inicializa o Chrome com as opções\n",
    "driver = webdriver.Chrome(service=service)\n",
    "\"\"\"\n",
    "https://gestao.granitopagamentos.com.br/Login/Index\n",
    "sandro.leao@creditoessencial.com.br\n",
    "11S@ndr01003\n",
    "\"\"\""
   ]
  },
  {
   "cell_type": "code",
   "execution_count": 5,
   "id": "a38c7f7c-932a-4485-a95a-aadec9896bb6",
   "metadata": {},
   "outputs": [],
   "source": [
    "linhas = driver.find_elements(By.XPATH, \"//table[@id='tabelaClientes']/tbody/tr\")\n"
   ]
  },
  {
   "cell_type": "code",
   "execution_count": 7,
   "id": "42c4da08-c7d7-4adb-a1f2-896ec6eb9242",
   "metadata": {},
   "outputs": [],
   "source": [
    "linhas[0].click()"
   ]
  },
  {
   "cell_type": "code",
   "execution_count": 21,
   "id": "b692e7d3-d84f-45a8-8f95-ce4da56031d0",
   "metadata": {},
   "outputs": [],
   "source": [
    "def change_window(window_name):\n",
    "    link_pesquisa = WebDriverWait(driver, 10).until(\n",
    "        EC.element_to_be_clickable((By.LINK_TEXT, window_name))\n",
    "    )\n",
    "    try:\n",
    "        link_pesquisa.click()\n",
    "    except ElementClickInterceptedException:\n",
    "        time.sleep(0.5)\n",
    "    wait_for_processing_to_disappear(driver)\n",
    "\n",
    "def wait_for_processing_to_disappear(driver, timeout=10):\n",
    "    \"\"\" Aguarda a aba 'Processando...' desaparecer antes de continuar \"\"\"\n",
    "    try:\n",
    "        WebDriverWait(driver, timeout).until(\n",
    "            EC.invisibility_of_element_located((By.XPATH, \"//*[contains(text(), 'Processando')]\"))\n",
    "        )\n",
    "        print(\"Aba 'Processando...' desapareceu. Continuando...\")\n",
    "    except Exception as e:\n",
    "        print(f\"Erro ou tempo esgotado ao esperar a aba 'Processando...': {e}\")\n",
    "\n",
    "def get_element_text_by_xpath(xpath, option = 'value'):\n",
    "    element_input = WebDriverWait(driver, 10).until(\n",
    "                EC.presence_of_element_located((By.XPATH, xpath))\n",
    "            )\n",
    "\n",
    "    # Capturar o valor do input\n",
    "    element_text = element_input.get_attribute(option)\n",
    "    return element_text\n"
   ]
  },
  {
   "cell_type": "code",
   "execution_count": 19,
   "id": "77af6244-edbb-43a3-9383-7dd5b5b8c62e",
   "metadata": {},
   "outputs": [
    {
     "data": {
      "text/plain": [
       "'Venda porta-a-porta e venda direta'"
      ]
     },
     "execution_count": 19,
     "metadata": {},
     "output_type": "execute_result"
    }
   ],
   "source": [
    "element_input = WebDriverWait(driver, 10).until(\n",
    "                EC.presence_of_element_located((By.XPATH, '//*[@id=\"RamoAtividadePF\"]/option'))\n",
    "            )\n",
    "element_input.get_attribute('text')"
   ]
  },
  {
   "cell_type": "code",
   "execution_count": 57,
   "id": "0767970b-7dfc-4bdf-9c5f-257523f070a5",
   "metadata": {},
   "outputs": [],
   "source": [
    "equipment_data = {\n",
    "    'name': [], 'cpf_cnpj': [],\n",
    "    'equipment_id': [], 'pdv': [], 'phone': [], 'email': [],\n",
    "    'fantase_name': [], 'branch_of_activity': [], 'cep': [],\n",
    "    'steet_name': [], 'address_number': [], 'address_complement': [], 'neighborhood_name': [],\n",
    "    'city_name': [], 'state_name': []\n",
    "}"
   ]
  },
  {
   "cell_type": "code",
   "execution_count": 59,
   "id": "cce9379a-3701-4b55-9891-342eddc76ad9",
   "metadata": {},
   "outputs": [
    {
     "data": {
      "text/plain": [
       "'Victor Emannuel Medeiros Silva'"
      ]
     },
     "execution_count": 59,
     "metadata": {},
     "output_type": "execute_result"
    }
   ],
   "source": [
    "fantasy_name"
   ]
  },
  {
   "cell_type": "code",
   "execution_count": 61,
   "id": "52b2cc48-a516-4e0c-b160-bd8b2be0291e",
   "metadata": {},
   "outputs": [
    {
     "name": "stdout",
     "output_type": "stream",
     "text": [
      "1/10 da pag. 1\n",
      "Aba 'Processando...' desapareceu. Continuando...\n",
      "Erro ao processar cliente 1: 'fantasy_name'\n",
      "Erro ao clicar em 'Próximo': Message: element not interactable\n",
      "  (Session info: chrome=134.0.6998.89)\n",
      "Stacktrace:\n",
      "\tGetHandleVerifier [0x00007FF64E936EE5+28773]\n",
      "\t(No symbol) [0x00007FF64E8A25D0]\n",
      "\t(No symbol) [0x00007FF64E738DDC]\n",
      "\t(No symbol) [0x00007FF64E7906B4]\n",
      "\t(No symbol) [0x00007FF64E782284]\n",
      "\t(No symbol) [0x00007FF64E7B724A]\n",
      "\t(No symbol) [0x00007FF64E781B36]\n",
      "\t(No symbol) [0x00007FF64E7B7460]\n",
      "\t(No symbol) [0x00007FF64E7DF6F3]\n",
      "\t(No symbol) [0x00007FF64E7B7023]\n",
      "\t(No symbol) [0x00007FF64E77FF5E]\n",
      "\t(No symbol) [0x00007FF64E7811E3]\n",
      "\tGetHandleVerifier [0x00007FF64EC8422D+3490733]\n",
      "\tGetHandleVerifier [0x00007FF64EC9BA13+3586963]\n",
      "\tGetHandleVerifier [0x00007FF64EC9144D+3544525]\n",
      "\tGetHandleVerifier [0x00007FF64E9FC9AA+838442]\n",
      "\t(No symbol) [0x00007FF64E8AD01F]\n",
      "\t(No symbol) [0x00007FF64E8A95E4]\n",
      "\t(No symbol) [0x00007FF64E8A9786]\n",
      "\t(No symbol) [0x00007FF64E898CB9]\n",
      "\tBaseThreadInitThunk [0x00007FFC0047E8D7+23]\n",
      "\tRtlUserThreadStart [0x00007FFC01E9BF6C+44]\n",
      "\n"
     ]
    }
   ],
   "source": [
    "page = 1\n",
    "while True:\n",
    "    client_rows = driver.find_elements(By.XPATH, \"//table[@id='tabelaClientes']/tbody/tr\")\n",
    "    for i, client_row in enumerate(client_rows):\n",
    "        try:\n",
    "            cpf_cnpj = client_row.find_element(By.XPATH, \".//td[3]\").text\n",
    "            name = client_row.find_element(By.XPATH, \".//td[4]\").text\n",
    "            print(f'{i+1}/{len(client_rows)} da pag. {page}')\n",
    "            \n",
    "            client_row.click()\n",
    "            phone = get_element_text_by_xpath('//*[@id=\"tabelaTelefones\"]/tbody/tr/td[2]/input')\n",
    "            email = get_element_text_by_xpath('//*[@id=\"tabelaEmails\"]/tbody/tr/td[2]/input')\n",
    "            fantasy_name = get_element_text_by_xpath('//*[@id=\"Fantasia\"]')\n",
    "            branch_of_activity = get_element_text_by_xpath('//*[@id=\"RamoAtividadePF\"]/option', 'text')\n",
    "            cep = get_element_text_by_xpath('//*[@id=\"CEP\"]')\n",
    "            street_name = get_element_text_by_xpath('//*[@id=\"Endereco\"]')\n",
    "            address_number = get_element_text_by_xpath('//*[@id=\"Numero\"]')\n",
    "            address_complement = get_element_text_by_xpath('//*[@id=\"Complemento\"]')\n",
    "            neighborhood_name = get_element_text_by_xpath('//*[@id=\"Bairro\"]')\n",
    "            city_name = get_element_text_by_xpath('//*[@id=\"Cidade\"]/option', 'text')\n",
    "            state_name = get_element_text_by_xpath('//*[@id=\"UF\"]/option', 'text')\n",
    "            \n",
    "            time.sleep(1)\n",
    "            change_window('Equipamentos')\n",
    "            time.sleep(1)\n",
    "\n",
    "            # Espera até que os elementos estejam disponíveis\n",
    "            max_retries = 5\n",
    "            retries = 0\n",
    "            while retries < max_retries:\n",
    "                try:\n",
    "                    equipment_rows = driver.find_elements(By.XPATH, \"//table[@id='tabelaPDV']/tbody/tr\")\n",
    "                    \n",
    "                    if not equipment_rows:\n",
    "                        break  # Nenhum equipamento encontrado, segue para o próximo cliente\n",
    "\n",
    "                    for equipment_row in equipment_rows:\n",
    "                        equipment_id = equipment_row.find_element(By.XPATH, \".//td[2]\").text\n",
    "                        pdv = equipment_row.find_element(By.XPATH, \".//td[1]\").text\n",
    "                        equipment_data['name'].append(name)\n",
    "                        equipment_data['cpf_cnpj'].append(cpf_cnpj)\n",
    "                        equipment_data['equipment_id'].append(equipment_id)\n",
    "                        equipment_data['pdv'].append(pdv)\n",
    "                        equipment_data['phone'].append(phone)\n",
    "                        equipment_data['email'].append(email)\n",
    "                        equipment_data['fantasy_name'].append(fantasy_name)\n",
    "                        equipment_data['cep'].append(cep)\n",
    "                        equipment_data['street_name'].append(street_name)\n",
    "                        equipment_data['address_number'].append(address_number)\n",
    "                        equipment_data['address_complement'].append(address_complement)\n",
    "                        equipment_data['neighborhood_name'].append(neighborhood_name)\n",
    "                        equipment_data['city_name'].append(city_name)\n",
    "                        equipment_data['state_name'].append(state_name)\n",
    "\n",
    "                    print(f'current_data: {equipment_data}')\n",
    "\n",
    "                    break  # Sai do `while` se tudo der certo\n",
    "\n",
    "                except StaleElementReferenceException:\n",
    "                    retries += 1\n",
    "                    time.sleep(1)  # Tenta novamente após um pequeno delay\n",
    "\n",
    "            change_window('Pesquisa')\n",
    "            time.sleep(1)\n",
    "\n",
    "        except Exception as e:\n",
    "            print(f\"Erro ao processar cliente {i+1}: {e}\")\n",
    "            break\n",
    "\n",
    "    # Verifica se o botão \"Próximo\" está desativado\n",
    "    try:\n",
    "        next_button_li = WebDriverWait(driver, 10).until(\n",
    "            EC.presence_of_element_located((By.ID, \"tabelaClientes_next\"))\n",
    "        )\n",
    "        \n",
    "        if 'disabled' in next_button_li.get_attribute('class'):\n",
    "            print(\"Fim da paginação. Encerrando.\")\n",
    "            break\n",
    "            \n",
    "        next_button = next_button_li.find_element(By.TAG_NAME, \"a\")\n",
    "        page += 1\n",
    "        next_button.click()\n",
    "\n",
    "    except Exception as e:\n",
    "        print(f\"Erro ao clicar em 'Próximo': {e}\")\n",
    "        break  # Sai do loop se houver erro na paginação"
   ]
  },
  {
   "cell_type": "code",
   "execution_count": 91,
   "id": "5fe8e333-547a-4bdb-97f9-7bd59cd28156",
   "metadata": {},
   "outputs": [],
   "source": [
    "df = pd.DataFrame(equipment_data)\n",
    "df.to_csv('equipment_data.csv')"
   ]
  },
  {
   "cell_type": "code",
   "execution_count": 93,
   "id": "bc8999ca-b4c7-4bb2-815c-130ed29b886f",
   "metadata": {},
   "outputs": [],
   "source": [
    "pd.DataFrame(equipment_data).to_excel('equipment_data.xlsx')"
   ]
  }
 ],
 "metadata": {
  "kernelspec": {
   "display_name": "Python [conda env:base] *",
   "language": "python",
   "name": "conda-base-py"
  },
  "language_info": {
   "codemirror_mode": {
    "name": "ipython",
    "version": 3
   },
   "file_extension": ".py",
   "mimetype": "text/x-python",
   "name": "python",
   "nbconvert_exporter": "python",
   "pygments_lexer": "ipython3",
   "version": "3.12.7"
  }
 },
 "nbformat": 4,
 "nbformat_minor": 5
}
