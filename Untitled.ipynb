{
 "cells": [
  {
   "cell_type": "code",
   "execution_count": 105,
   "id": "f1ae32d5-4b7a-4575-9cfc-2d6bf5eb6d62",
   "metadata": {},
   "outputs": [],
   "source": [
    "from selenium import webdriver\n",
    "from selenium.webdriver.common.by import By\n",
    "from selenium.webdriver.common.keys import Keys\n",
    "from selenium.webdriver.chrome.service import Service\n",
    "from selenium.webdriver.common.action_chains import ActionChains\n",
    "import time\n",
    "from selenium.common.exceptions import TimeoutException\n",
    "\n",
    "from selenium.webdriver.support.ui import WebDriverWait\n",
    "from selenium.webdriver.support import expected_conditions as EC\n",
    "from selenium.webdriver.common.by import By\n",
    "import os\n",
    "import time"
   ]
  },
  {
   "cell_type": "code",
   "execution_count": 131,
   "id": "228d6e23-e0b7-4b45-84cb-7242c3ace3db",
   "metadata": {},
   "outputs": [
    {
     "data": {
      "text/plain": [
       "'\\nhttps://gestao.granitopagamentos.com.br/Login/Index\\nsandro.leao@creditoessencial.com.br\\n11S@ndr01003\\n'"
      ]
     },
     "execution_count": 131,
     "metadata": {},
     "output_type": "execute_result"
    }
   ],
   "source": [
    "service = Service(\"C://Users//servi//inter-scraping//chromedriver-win64//chromedriver-win64//chromedriver.exe\")\n",
    "chrome_profile_path = r'C:\\Users\\servi\\AppData\\Local\\Google\\Chrome\\User Data\\Default'\n",
    "\n",
    "# Set up Chrome options\n",
    "# Configuração das opções do Chrome\n",
    "options = webdriver.ChromeOptions()\n",
    "options.add_argument(f\"user-data-dir={chrome_profile_path}\")\n",
    "options.add_experimental_option(\"detach\", True)  # Isso permite que o Chrome permaneça aberto após o script terminar\n",
    "\n",
    "# Inicializa o Chrome com as opções\n",
    "driver = webdriver.Chrome(service=service)\n",
    "\"\"\"\n",
    "https://gestao.granitopagamentos.com.br/Login/Index\n",
    "sandro.leao@creditoessencial.com.br\n",
    "11S@ndr01003\n",
    "\"\"\"\n",
    "\n"
   ]
  },
  {
   "cell_type": "code",
   "execution_count": 21,
   "id": "a0165a70-ec08-415b-9ee8-7203318ae3ed",
   "metadata": {},
   "outputs": [],
   "source": [
    "link_pesquisa = driver.find_element(By.LINK_TEXT, \"Pesquisa\")\n",
    "link_pesquisa.click()"
   ]
  },
  {
   "cell_type": "code",
   "execution_count": 141,
   "id": "cc4cfa89-400b-43ae-bbb3-d549ba19bba7",
   "metadata": {},
   "outputs": [],
   "source": [
    "linhas = driver.find_elements(By.XPATH, \"//table[@id='tabelaClientes']/tbody/tr\")"
   ]
  },
  {
   "cell_type": "code",
   "execution_count": 143,
   "id": "e23c42e2-7c2f-41c3-812d-97a44dbf9344",
   "metadata": {},
   "outputs": [],
   "source": [
    "linhas[0].click()"
   ]
  },
  {
   "cell_type": "code",
   "execution_count": 273,
   "id": "8dea8fc2-99cb-4659-b3d0-2b1e83080e0e",
   "metadata": {},
   "outputs": [],
   "source": [
    "data_inicio_input = driver.find_element(By.ID, \"DataInicio\")"
   ]
  },
  {
   "cell_type": "code",
   "execution_count": 111,
   "id": "92ca8a6e-23c0-4a7e-8532-5ad5243ff4ef",
   "metadata": {},
   "outputs": [
    {
     "ename": "ElementClickInterceptedException",
     "evalue": "Message: element click intercepted: Element <button id=\"btdlTransacoes\" type=\"button\" class=\"btn btn-sm btn-default\" onclick=\"downloadCsvTabelaTransacoes()\">...</button> is not clickable at point (347, 761). Other element would receive the click: <div class=\"panel-heading\">...</div>\n  (Session info: chrome=133.0.6943.141)\nStacktrace:\n\tGetHandleVerifier [0x00007FF7DE0B6EE5+28773]\n\t(No symbol) [0x00007FF7DE0225D0]\n\t(No symbol) [0x00007FF7DDEB8FAA]\n\t(No symbol) [0x00007FF7DDF17109]\n\t(No symbol) [0x00007FF7DDF14AD2]\n\t(No symbol) [0x00007FF7DDF11B81]\n\t(No symbol) [0x00007FF7DDF10A91]\n\t(No symbol) [0x00007FF7DDF0262F]\n\t(No symbol) [0x00007FF7DDF3724A]\n\t(No symbol) [0x00007FF7DDF01B36]\n\t(No symbol) [0x00007FF7DDF37460]\n\t(No symbol) [0x00007FF7DDF5F6F3]\n\t(No symbol) [0x00007FF7DDF37023]\n\t(No symbol) [0x00007FF7DDEFFF5E]\n\t(No symbol) [0x00007FF7DDF011E3]\n\tGetHandleVerifier [0x00007FF7DE40422D+3490733]\n\tGetHandleVerifier [0x00007FF7DE41BA13+3586963]\n\tGetHandleVerifier [0x00007FF7DE41144D+3544525]\n\tGetHandleVerifier [0x00007FF7DE17C9AA+838442]\n\t(No symbol) [0x00007FF7DE02D01F]\n\t(No symbol) [0x00007FF7DE0295E4]\n\t(No symbol) [0x00007FF7DE029786]\n\t(No symbol) [0x00007FF7DE018CB9]\n\tBaseThreadInitThunk [0x00007FFC7283E8D7+23]\n\tRtlUserThreadStart [0x00007FFC73BDBF2C+44]\n",
     "output_type": "error",
     "traceback": [
      "\u001b[1;31m---------------------------------------------------------------------------\u001b[0m",
      "\u001b[1;31mElementClickInterceptedException\u001b[0m          Traceback (most recent call last)",
      "Cell \u001b[1;32mIn[111], line 5\u001b[0m\n\u001b[0;32m      3\u001b[0m \u001b[38;5;28;01mfor\u001b[39;00m linha \u001b[38;5;129;01min\u001b[39;00m linhas:\n\u001b[0;32m      4\u001b[0m     linha\u001b[38;5;241m.\u001b[39mclick()\n\u001b[1;32m----> 5\u001b[0m     change_date_and_search(\u001b[38;5;124m'\u001b[39m\u001b[38;5;124m01/02/2025\u001b[39m\u001b[38;5;124m'\u001b[39m)\n\u001b[0;32m      6\u001b[0m     new_file \u001b[38;5;241m=\u001b[39m wait_until_download()\n\u001b[0;32m      7\u001b[0m     \u001b[38;5;28;01mif\u001b[39;00m new_file:\n",
      "Cell \u001b[1;32mIn[9], line 20\u001b[0m, in \u001b[0;36mchange_date_and_search\u001b[1;34m(new_date)\u001b[0m\n\u001b[0;32m     16\u001b[0m \u001b[38;5;28;01mtry\u001b[39;00m:\n\u001b[0;32m     17\u001b[0m     botao_exportar \u001b[38;5;241m=\u001b[39m WebDriverWait(driver, \u001b[38;5;241m10\u001b[39m)\u001b[38;5;241m.\u001b[39muntil(\n\u001b[0;32m     18\u001b[0m         EC\u001b[38;5;241m.\u001b[39melement_to_be_clickable((By\u001b[38;5;241m.\u001b[39mID, \u001b[38;5;124m\"\u001b[39m\u001b[38;5;124mbtdlTransacoes\u001b[39m\u001b[38;5;124m\"\u001b[39m))\n\u001b[0;32m     19\u001b[0m     )\n\u001b[1;32m---> 20\u001b[0m     botao_exportar\u001b[38;5;241m.\u001b[39mclick()\n\u001b[0;32m     21\u001b[0m     wait_until_download()  \u001b[38;5;66;03m# Espera o download ser concluído\u001b[39;00m\n\u001b[0;32m     22\u001b[0m \u001b[38;5;28;01mexcept\u001b[39;00m TimeoutException:\n",
      "File \u001b[1;32m~\\anaconda3\\Lib\\site-packages\\selenium\\webdriver\\remote\\webelement.py:94\u001b[0m, in \u001b[0;36mWebElement.click\u001b[1;34m(self)\u001b[0m\n\u001b[0;32m     92\u001b[0m \u001b[38;5;28;01mdef\u001b[39;00m \u001b[38;5;21mclick\u001b[39m(\u001b[38;5;28mself\u001b[39m) \u001b[38;5;241m-\u001b[39m\u001b[38;5;241m>\u001b[39m \u001b[38;5;28;01mNone\u001b[39;00m:\n\u001b[0;32m     93\u001b[0m \u001b[38;5;250m    \u001b[39m\u001b[38;5;124;03m\"\"\"Clicks the element.\"\"\"\u001b[39;00m\n\u001b[1;32m---> 94\u001b[0m     \u001b[38;5;28mself\u001b[39m\u001b[38;5;241m.\u001b[39m_execute(Command\u001b[38;5;241m.\u001b[39mCLICK_ELEMENT)\n",
      "File \u001b[1;32m~\\anaconda3\\Lib\\site-packages\\selenium\\webdriver\\remote\\webelement.py:395\u001b[0m, in \u001b[0;36mWebElement._execute\u001b[1;34m(self, command, params)\u001b[0m\n\u001b[0;32m    393\u001b[0m     params \u001b[38;5;241m=\u001b[39m {}\n\u001b[0;32m    394\u001b[0m params[\u001b[38;5;124m\"\u001b[39m\u001b[38;5;124mid\u001b[39m\u001b[38;5;124m\"\u001b[39m] \u001b[38;5;241m=\u001b[39m \u001b[38;5;28mself\u001b[39m\u001b[38;5;241m.\u001b[39m_id\n\u001b[1;32m--> 395\u001b[0m \u001b[38;5;28;01mreturn\u001b[39;00m \u001b[38;5;28mself\u001b[39m\u001b[38;5;241m.\u001b[39m_parent\u001b[38;5;241m.\u001b[39mexecute(command, params)\n",
      "File \u001b[1;32m~\\anaconda3\\Lib\\site-packages\\selenium\\webdriver\\remote\\webdriver.py:354\u001b[0m, in \u001b[0;36mWebDriver.execute\u001b[1;34m(self, driver_command, params)\u001b[0m\n\u001b[0;32m    352\u001b[0m response \u001b[38;5;241m=\u001b[39m \u001b[38;5;28mself\u001b[39m\u001b[38;5;241m.\u001b[39mcommand_executor\u001b[38;5;241m.\u001b[39mexecute(driver_command, params)\n\u001b[0;32m    353\u001b[0m \u001b[38;5;28;01mif\u001b[39;00m response:\n\u001b[1;32m--> 354\u001b[0m     \u001b[38;5;28mself\u001b[39m\u001b[38;5;241m.\u001b[39merror_handler\u001b[38;5;241m.\u001b[39mcheck_response(response)\n\u001b[0;32m    355\u001b[0m     response[\u001b[38;5;124m\"\u001b[39m\u001b[38;5;124mvalue\u001b[39m\u001b[38;5;124m\"\u001b[39m] \u001b[38;5;241m=\u001b[39m \u001b[38;5;28mself\u001b[39m\u001b[38;5;241m.\u001b[39m_unwrap_value(response\u001b[38;5;241m.\u001b[39mget(\u001b[38;5;124m\"\u001b[39m\u001b[38;5;124mvalue\u001b[39m\u001b[38;5;124m\"\u001b[39m, \u001b[38;5;28;01mNone\u001b[39;00m))\n\u001b[0;32m    356\u001b[0m     \u001b[38;5;28;01mreturn\u001b[39;00m response\n",
      "File \u001b[1;32m~\\anaconda3\\Lib\\site-packages\\selenium\\webdriver\\remote\\errorhandler.py:229\u001b[0m, in \u001b[0;36mErrorHandler.check_response\u001b[1;34m(self, response)\u001b[0m\n\u001b[0;32m    227\u001b[0m         alert_text \u001b[38;5;241m=\u001b[39m value[\u001b[38;5;124m\"\u001b[39m\u001b[38;5;124malert\u001b[39m\u001b[38;5;124m\"\u001b[39m]\u001b[38;5;241m.\u001b[39mget(\u001b[38;5;124m\"\u001b[39m\u001b[38;5;124mtext\u001b[39m\u001b[38;5;124m\"\u001b[39m)\n\u001b[0;32m    228\u001b[0m     \u001b[38;5;28;01mraise\u001b[39;00m exception_class(message, screen, stacktrace, alert_text)  \u001b[38;5;66;03m# type: ignore[call-arg]  # mypy is not smart enough here\u001b[39;00m\n\u001b[1;32m--> 229\u001b[0m \u001b[38;5;28;01mraise\u001b[39;00m exception_class(message, screen, stacktrace)\n",
      "\u001b[1;31mElementClickInterceptedException\u001b[0m: Message: element click intercepted: Element <button id=\"btdlTransacoes\" type=\"button\" class=\"btn btn-sm btn-default\" onclick=\"downloadCsvTabelaTransacoes()\">...</button> is not clickable at point (347, 761). Other element would receive the click: <div class=\"panel-heading\">...</div>\n  (Session info: chrome=133.0.6943.141)\nStacktrace:\n\tGetHandleVerifier [0x00007FF7DE0B6EE5+28773]\n\t(No symbol) [0x00007FF7DE0225D0]\n\t(No symbol) [0x00007FF7DDEB8FAA]\n\t(No symbol) [0x00007FF7DDF17109]\n\t(No symbol) [0x00007FF7DDF14AD2]\n\t(No symbol) [0x00007FF7DDF11B81]\n\t(No symbol) [0x00007FF7DDF10A91]\n\t(No symbol) [0x00007FF7DDF0262F]\n\t(No symbol) [0x00007FF7DDF3724A]\n\t(No symbol) [0x00007FF7DDF01B36]\n\t(No symbol) [0x00007FF7DDF37460]\n\t(No symbol) [0x00007FF7DDF5F6F3]\n\t(No symbol) [0x00007FF7DDF37023]\n\t(No symbol) [0x00007FF7DDEFFF5E]\n\t(No symbol) [0x00007FF7DDF011E3]\n\tGetHandleVerifier [0x00007FF7DE40422D+3490733]\n\tGetHandleVerifier [0x00007FF7DE41BA13+3586963]\n\tGetHandleVerifier [0x00007FF7DE41144D+3544525]\n\tGetHandleVerifier [0x00007FF7DE17C9AA+838442]\n\t(No symbol) [0x00007FF7DE02D01F]\n\t(No symbol) [0x00007FF7DE0295E4]\n\t(No symbol) [0x00007FF7DE029786]\n\t(No symbol) [0x00007FF7DE018CB9]\n\tBaseThreadInitThunk [0x00007FFC7283E8D7+23]\n\tRtlUserThreadStart [0x00007FFC73BDBF2C+44]\n"
     ]
    }
   ],
   "source": [
    "files = []\n",
    "while True:\n",
    "    for linha in linhas:\n",
    "        linha.click()\n",
    "        change_date_and_search('01/02/2025')\n",
    "        new_file = wait_until_download()\n",
    "        if new_file:\n",
    "            files.append(new_file)\n",
    "        change_window()\n",
    "        time.sleep(1)\n",
    "    \n",
    "    next_button_li = WebDriverWait(driver, 10).until(\n",
    "        EC.visibility_of_element_located((By.ID, \"tabelaClientes_next\"))\n",
    "    )\n",
    "    if 'disabled' in next_button_li.get_attribute('class'):\n",
    "        break\n",
    "    next_button = next_button_li.find_element(By.TAG_NAME, \"a\")\n",
    "    next_button.click()\n",
    "\n",
    "        \n",
    "    "
   ]
  },
  {
   "cell_type": "code",
   "execution_count": null,
   "id": "313cbcc0-7b15-4c30-83ac-6079b91795e9",
   "metadata": {},
   "outputs": [],
   "source": [
    "next_button_li = WebDriverWait(driver, 10).until(\n",
    "    EC.visibility_of_element_located((By.ID, \"tabelaClientes_next\"))\n",
    ")\n",
    "if"
   ]
  },
  {
   "cell_type": "code",
   "execution_count": 277,
   "id": "5b80cb21-a991-45e0-943e-71ee65987dcb",
   "metadata": {},
   "outputs": [],
   "source": [
    "data_inicio_input.clear()\n",
    "data_inicio_input.send_keys(\"01/02/2025\")\n",
    "botao_pesquisar = driver.find_element(By.ID, \"btnPesquisar\")\n",
    "botao_pesquisar.click()\n",
    "botao_exportar = driver.find_element(By.ID, \"btdlTransacoes\")\n",
    "botao_exportar.click()"
   ]
  },
  {
   "cell_type": "code",
   "execution_count": 23,
   "id": "0a618418-2864-4a39-ac9d-55a0502bf953",
   "metadata": {},
   "outputs": [],
   "source": [
    "def change_window():\n",
    "    link_pesquisa = WebDriverWait(driver, 10).until(\n",
    "        EC.element_to_be_clickable((By.LINK_TEXT, \"Pesquisa\"))\n",
    "    )\n",
    "    \n",
    "    link_pesquisa.click()"
   ]
  },
  {
   "cell_type": "code",
   "execution_count": 119,
   "id": "e43e37fd-5ab6-472d-8379-9d8c2d47576f",
   "metadata": {},
   "outputs": [],
   "source": [
    "botao_exportar = driver.find_element(By.ID, \"btdlTransacoes\")"
   ]
  },
  {
   "cell_type": "code",
   "execution_count": 129,
   "id": "837b69fd-0e8d-40c0-afe9-5fad916722da",
   "metadata": {},
   "outputs": [
    {
     "data": {
      "text/plain": [
       "'btn btn-sm btn-default disabled'"
      ]
     },
     "execution_count": 129,
     "metadata": {},
     "output_type": "execute_result"
    }
   ],
   "source": [
    "botao_exportar.get_attribute('class')"
   ]
  },
  {
   "cell_type": "code",
   "execution_count": 79,
   "id": "a85230b4-c258-4542-ac42-d69503af6689",
   "metadata": {},
   "outputs": [],
   "source": [
    "next_button = driver.find_element(By.XPATH, '//*[@id=\"tabelaClientes_next\"]/a')\n",
    " \n"
   ]
  },
  {
   "cell_type": "code",
   "execution_count": 93,
   "id": "249fd308-53d0-49cd-b87a-5bc2fe4425a0",
   "metadata": {},
   "outputs": [],
   "source": [
    "next_button_li = WebDriverWait(driver, 10).until(\n",
    "    EC.visibility_of_element_located((By.ID, \"tabelaClientes_next\"))\n",
    ")"
   ]
  },
  {
   "cell_type": "code",
   "execution_count": 95,
   "id": "124e8886-e4e0-41ca-aba5-573091b14758",
   "metadata": {},
   "outputs": [
    {
     "data": {
      "text/plain": [
       "'paginate_button next'"
      ]
     },
     "execution_count": 95,
     "metadata": {},
     "output_type": "execute_result"
    }
   ],
   "source": [
    "next_button_li.get_attribute(\"class\")"
   ]
  },
  {
   "cell_type": "code",
   "execution_count": 97,
   "id": "1222502f-2cc4-432b-a225-2ebcd3711572",
   "metadata": {},
   "outputs": [
    {
     "ename": "ElementNotInteractableException",
     "evalue": "Message: element not interactable: element has zero size\n  (Session info: chrome=133.0.6943.141)\nStacktrace:\n\tGetHandleVerifier [0x00007FF7DE0B6EE5+28773]\n\t(No symbol) [0x00007FF7DE0225D0]\n\t(No symbol) [0x00007FF7DDEB8FAA]\n\t(No symbol) [0x00007FF7DDF10A1B]\n\t(No symbol) [0x00007FF7DDF02284]\n\t(No symbol) [0x00007FF7DDF3724A]\n\t(No symbol) [0x00007FF7DDF01B36]\n\t(No symbol) [0x00007FF7DDF37460]\n\t(No symbol) [0x00007FF7DDF5F6F3]\n\t(No symbol) [0x00007FF7DDF37023]\n\t(No symbol) [0x00007FF7DDEFFF5E]\n\t(No symbol) [0x00007FF7DDF011E3]\n\tGetHandleVerifier [0x00007FF7DE40422D+3490733]\n\tGetHandleVerifier [0x00007FF7DE41BA13+3586963]\n\tGetHandleVerifier [0x00007FF7DE41144D+3544525]\n\tGetHandleVerifier [0x00007FF7DE17C9AA+838442]\n\t(No symbol) [0x00007FF7DE02D01F]\n\t(No symbol) [0x00007FF7DE0295E4]\n\t(No symbol) [0x00007FF7DE029786]\n\t(No symbol) [0x00007FF7DE018CB9]\n\tBaseThreadInitThunk [0x00007FFC7283E8D7+23]\n\tRtlUserThreadStart [0x00007FFC73BDBF2C+44]\n",
     "output_type": "error",
     "traceback": [
      "\u001b[1;31m---------------------------------------------------------------------------\u001b[0m",
      "\u001b[1;31mElementNotInteractableException\u001b[0m           Traceback (most recent call last)",
      "Cell \u001b[1;32mIn[97], line 1\u001b[0m\n\u001b[1;32m----> 1\u001b[0m next_button_li\u001b[38;5;241m.\u001b[39mclick()\n",
      "File \u001b[1;32m~\\anaconda3\\Lib\\site-packages\\selenium\\webdriver\\remote\\webelement.py:94\u001b[0m, in \u001b[0;36mWebElement.click\u001b[1;34m(self)\u001b[0m\n\u001b[0;32m     92\u001b[0m \u001b[38;5;28;01mdef\u001b[39;00m \u001b[38;5;21mclick\u001b[39m(\u001b[38;5;28mself\u001b[39m) \u001b[38;5;241m-\u001b[39m\u001b[38;5;241m>\u001b[39m \u001b[38;5;28;01mNone\u001b[39;00m:\n\u001b[0;32m     93\u001b[0m \u001b[38;5;250m    \u001b[39m\u001b[38;5;124;03m\"\"\"Clicks the element.\"\"\"\u001b[39;00m\n\u001b[1;32m---> 94\u001b[0m     \u001b[38;5;28mself\u001b[39m\u001b[38;5;241m.\u001b[39m_execute(Command\u001b[38;5;241m.\u001b[39mCLICK_ELEMENT)\n",
      "File \u001b[1;32m~\\anaconda3\\Lib\\site-packages\\selenium\\webdriver\\remote\\webelement.py:395\u001b[0m, in \u001b[0;36mWebElement._execute\u001b[1;34m(self, command, params)\u001b[0m\n\u001b[0;32m    393\u001b[0m     params \u001b[38;5;241m=\u001b[39m {}\n\u001b[0;32m    394\u001b[0m params[\u001b[38;5;124m\"\u001b[39m\u001b[38;5;124mid\u001b[39m\u001b[38;5;124m\"\u001b[39m] \u001b[38;5;241m=\u001b[39m \u001b[38;5;28mself\u001b[39m\u001b[38;5;241m.\u001b[39m_id\n\u001b[1;32m--> 395\u001b[0m \u001b[38;5;28;01mreturn\u001b[39;00m \u001b[38;5;28mself\u001b[39m\u001b[38;5;241m.\u001b[39m_parent\u001b[38;5;241m.\u001b[39mexecute(command, params)\n",
      "File \u001b[1;32m~\\anaconda3\\Lib\\site-packages\\selenium\\webdriver\\remote\\webdriver.py:354\u001b[0m, in \u001b[0;36mWebDriver.execute\u001b[1;34m(self, driver_command, params)\u001b[0m\n\u001b[0;32m    352\u001b[0m response \u001b[38;5;241m=\u001b[39m \u001b[38;5;28mself\u001b[39m\u001b[38;5;241m.\u001b[39mcommand_executor\u001b[38;5;241m.\u001b[39mexecute(driver_command, params)\n\u001b[0;32m    353\u001b[0m \u001b[38;5;28;01mif\u001b[39;00m response:\n\u001b[1;32m--> 354\u001b[0m     \u001b[38;5;28mself\u001b[39m\u001b[38;5;241m.\u001b[39merror_handler\u001b[38;5;241m.\u001b[39mcheck_response(response)\n\u001b[0;32m    355\u001b[0m     response[\u001b[38;5;124m\"\u001b[39m\u001b[38;5;124mvalue\u001b[39m\u001b[38;5;124m\"\u001b[39m] \u001b[38;5;241m=\u001b[39m \u001b[38;5;28mself\u001b[39m\u001b[38;5;241m.\u001b[39m_unwrap_value(response\u001b[38;5;241m.\u001b[39mget(\u001b[38;5;124m\"\u001b[39m\u001b[38;5;124mvalue\u001b[39m\u001b[38;5;124m\"\u001b[39m, \u001b[38;5;28;01mNone\u001b[39;00m))\n\u001b[0;32m    356\u001b[0m     \u001b[38;5;28;01mreturn\u001b[39;00m response\n",
      "File \u001b[1;32m~\\anaconda3\\Lib\\site-packages\\selenium\\webdriver\\remote\\errorhandler.py:229\u001b[0m, in \u001b[0;36mErrorHandler.check_response\u001b[1;34m(self, response)\u001b[0m\n\u001b[0;32m    227\u001b[0m         alert_text \u001b[38;5;241m=\u001b[39m value[\u001b[38;5;124m\"\u001b[39m\u001b[38;5;124malert\u001b[39m\u001b[38;5;124m\"\u001b[39m]\u001b[38;5;241m.\u001b[39mget(\u001b[38;5;124m\"\u001b[39m\u001b[38;5;124mtext\u001b[39m\u001b[38;5;124m\"\u001b[39m)\n\u001b[0;32m    228\u001b[0m     \u001b[38;5;28;01mraise\u001b[39;00m exception_class(message, screen, stacktrace, alert_text)  \u001b[38;5;66;03m# type: ignore[call-arg]  # mypy is not smart enough here\u001b[39;00m\n\u001b[1;32m--> 229\u001b[0m \u001b[38;5;28;01mraise\u001b[39;00m exception_class(message, screen, stacktrace)\n",
      "\u001b[1;31mElementNotInteractableException\u001b[0m: Message: element not interactable: element has zero size\n  (Session info: chrome=133.0.6943.141)\nStacktrace:\n\tGetHandleVerifier [0x00007FF7DE0B6EE5+28773]\n\t(No symbol) [0x00007FF7DE0225D0]\n\t(No symbol) [0x00007FF7DDEB8FAA]\n\t(No symbol) [0x00007FF7DDF10A1B]\n\t(No symbol) [0x00007FF7DDF02284]\n\t(No symbol) [0x00007FF7DDF3724A]\n\t(No symbol) [0x00007FF7DDF01B36]\n\t(No symbol) [0x00007FF7DDF37460]\n\t(No symbol) [0x00007FF7DDF5F6F3]\n\t(No symbol) [0x00007FF7DDF37023]\n\t(No symbol) [0x00007FF7DDEFFF5E]\n\t(No symbol) [0x00007FF7DDF011E3]\n\tGetHandleVerifier [0x00007FF7DE40422D+3490733]\n\tGetHandleVerifier [0x00007FF7DE41BA13+3586963]\n\tGetHandleVerifier [0x00007FF7DE41144D+3544525]\n\tGetHandleVerifier [0x00007FF7DE17C9AA+838442]\n\t(No symbol) [0x00007FF7DE02D01F]\n\t(No symbol) [0x00007FF7DE0295E4]\n\t(No symbol) [0x00007FF7DE029786]\n\t(No symbol) [0x00007FF7DE018CB9]\n\tBaseThreadInitThunk [0x00007FFC7283E8D7+23]\n\tRtlUserThreadStart [0x00007FFC73BDBF2C+44]\n"
     ]
    }
   ],
   "source": [
    "next_button_li.click()"
   ]
  },
  {
   "cell_type": "code",
   "execution_count": 83,
   "id": "f6ba88ce-a070-4cb4-9a05-41587815935d",
   "metadata": {},
   "outputs": [],
   "source": [
    "next_button.click()"
   ]
  },
  {
   "cell_type": "code",
   "execution_count": 9,
   "id": "2abca202-53d7-4c1a-bf83-001a04657a6c",
   "metadata": {},
   "outputs": [],
   "source": [
    "def change_date_and_search(new_date):\n",
    "    # Espera o input de data estar visível e interagível\n",
    "    data_input = WebDriverWait(driver, 10).until(\n",
    "        EC.element_to_be_clickable((By.ID, \"DataInicio\"))\n",
    "    )\n",
    "    data_input.clear()\n",
    "    data_input.send_keys(new_date)\n",
    "\n",
    "    # Espera o botão de pesquisar estar visível e clicável\n",
    "    search_button = WebDriverWait(driver, 10).until(\n",
    "        EC.element_to_be_clickable((By.ID, \"btnPesquisar\"))\n",
    "    )\n",
    "    search_button.click()\n",
    "\n",
    "    # Verifica se o botão exportar está ativo e visível\n",
    "    try:\n",
    "        botao_exportar = WebDriverWait(driver, 10).until(\n",
    "            EC.element_to_be_clickable((By.ID, \"btdlTransacoes\"))\n",
    "        )\n",
    "        botao_exportar.click()\n",
    "        wait_until_download()  # Espera o download ser concluído\n",
    "    except TimeoutException:\n",
    "        print(\"Botão de exportar não disponível ou não há dados para exportar.\")"
   ]
  },
  {
   "cell_type": "code",
   "execution_count": 11,
   "id": "d30cb94b-0f3b-41d3-a317-d5bd2330551c",
   "metadata": {},
   "outputs": [],
   "source": [
    "def wait_until_download_complete(download_dir, expected_prefix, timeout=300):\n",
    "    \"\"\"\n",
    "    Espera até que um arquivo seja completamente baixado no diretório especificado.\n",
    "    :param download_dir: Caminho para o diretório de downloads.\n",
    "    :param expected_prefix: Prefixo esperado do arquivo baixado para reconhecer o arquivo correto.\n",
    "    :param timeout: Tempo máximo de espera em segundos.\n",
    "    :return: Nome do arquivo baixado se sucesso, None se falha.\n",
    "    \"\"\"\n",
    "    files_before = set(os.listdir(download_dir))\n",
    "    start_time = time.time()\n",
    "\n",
    "    while time.time() - start_time < timeout:\n",
    "        time.sleep(1)  # Aguarda 1 segundo entre cada verificação para não sobrecarregar o sistema\n",
    "        files_after = set(os.listdir(download_dir))\n",
    "        new_files = files_after - files_before\n",
    "        for file in new_files:\n",
    "            # Verifica se o arquivo é o esperado e se não tem extensão temporária\n",
    "            if file.startswith(expected_prefix) and not (file.endswith('.crdownload') or file.endswith('.part')):\n",
    "                return file  # Retorna o nome do arquivo quando o download estiver completo\n",
    "\n",
    "    print(\"Timeout ao esperar pelo download do arquivo.\")\n",
    "    return None\n"
   ]
  },
  {
   "cell_type": "code",
   "execution_count": 157,
   "id": "185a30dc-2926-4ae9-b387-a1337ef1609e",
   "metadata": {},
   "outputs": [],
   "source": [
    "linha = linhas[1]"
   ]
  },
  {
   "cell_type": "code",
   "execution_count": 159,
   "id": "07876b3d-8fbb-429e-9dea-02999113b106",
   "metadata": {},
   "outputs": [],
   "source": [
    "# Ajuste os índices conforme a organização das colunas na sua tabela\n",
    "cpf = linha.find_element(By.XPATH, \".//td[2]\").text  # A segunda coluna para CPF/CNPJ\n",
    "nome = linha.find_element(By.XPATH, \".//td[3]\").text  # A terceira coluna para Razão Social/Nome\n"
   ]
  },
  {
   "cell_type": "code",
   "execution_count": 155,
   "id": "1c96a22d-d8fc-4211-aa78-bf6644d212c8",
   "metadata": {},
   "outputs": [],
   "source": [
    "linhas = driver.find_elements(By.XPATH, \"//table[@id='tabelaClientes']/tbody/tr\")"
   ]
  },
  {
   "cell_type": "code",
   "execution_count": 165,
   "id": "14ab778f-e757-4bb0-bbe6-64487f8440ed",
   "metadata": {},
   "outputs": [
    {
     "ename": "SyntaxError",
     "evalue": "unterminated string literal (detected at line 1) (4090498413.py, line 1)",
     "output_type": "error",
     "traceback": [
      "\u001b[1;36m  Cell \u001b[1;32mIn[165], line 1\u001b[1;36m\u001b[0m\n\u001b[1;33m    read_csv('C:\\Users\\servi\\Downloads\\)\u001b[0m\n\u001b[1;37m             ^\u001b[0m\n\u001b[1;31mSyntaxError\u001b[0m\u001b[1;31m:\u001b[0m unterminated string literal (detected at line 1)\n"
     ]
    }
   ],
   "source": [
    "read_csv('C:\\Users\\servi\\Downloads\\)"
   ]
  },
  {
   "cell_type": "code",
   "execution_count": 175,
   "id": "405c1e9d-6d74-4b33-a2b0-3f44121dde27",
   "metadata": {},
   "outputs": [],
   "source": [
    "import pandas as pd"
   ]
  },
  {
   "cell_type": "code",
   "execution_count": 185,
   "id": "f3cef901-8346-45bc-a918-0443505c5581",
   "metadata": {},
   "outputs": [
    {
     "data": {
      "text/html": [
       "<div>\n",
       "<style scoped>\n",
       "    .dataframe tbody tr th:only-of-type {\n",
       "        vertical-align: middle;\n",
       "    }\n",
       "\n",
       "    .dataframe tbody tr th {\n",
       "        vertical-align: top;\n",
       "    }\n",
       "\n",
       "    .dataframe thead th {\n",
       "        text-align: right;\n",
       "    }\n",
       "</style>\n",
       "<table border=\"1\" class=\"dataframe\">\n",
       "  <thead>\n",
       "    <tr style=\"text-align: right;\">\n",
       "      <th></th>\n",
       "      <th>PDV</th>\n",
       "      <th>Data e hora</th>\n",
       "      <th>Tipo</th>\n",
       "      <th>Valor</th>\n",
       "      <th>Numero Parcelas</th>\n",
       "      <th>Status</th>\n",
       "      <th>Bandeira</th>\n",
       "      <th>NSU</th>\n",
       "      <th>NSU HOST</th>\n",
       "      <th>Cartao</th>\n",
       "      <th>Cod. Retorno</th>\n",
       "      <th>Id</th>\n",
       "      <th>Forma Captura</th>\n",
       "      <th>Elegivel Antecipacao</th>\n",
       "    </tr>\n",
       "  </thead>\n",
       "  <tbody>\n",
       "    <tr>\n",
       "      <th>0</th>\n",
       "      <td>1</td>\n",
       "      <td>14/02/2025 09:25:34</td>\n",
       "      <td>Credito a vista</td>\n",
       "      <td>2,00</td>\n",
       "      <td>0</td>\n",
       "      <td>Cancelada</td>\n",
       "      <td>VISA</td>\n",
       "      <td>1001</td>\n",
       "      <td>NaN</td>\n",
       "      <td>4729535236</td>\n",
       "      <td>0</td>\n",
       "      <td>1336051638</td>\n",
       "      <td>Contactless</td>\n",
       "      <td>0</td>\n",
       "    </tr>\n",
       "  </tbody>\n",
       "</table>\n",
       "</div>"
      ],
      "text/plain": [
       "   PDV          Data e hora             Tipo Valor  Numero Parcelas  \\\n",
       "0    1  14/02/2025 09:25:34  Credito a vista  2,00                0   \n",
       "\n",
       "      Status Bandeira   NSU  NSU HOST      Cartao  Cod. Retorno          Id  \\\n",
       "0  Cancelada     VISA  1001       NaN  4729535236             0  1336051638   \n",
       "\n",
       "  Forma Captura  Elegivel Antecipacao  \n",
       "0   Contactless                     0  "
      ]
     },
     "execution_count": 185,
     "metadata": {},
     "output_type": "execute_result"
    }
   ],
   "source": [
    "df = pd.read_csv(r'C:\\Users\\servi\\Downloads\\PAGO_Transações_26-02-2025_17-16-59.csv', sep = ';')"
   ]
  },
  {
   "cell_type": "code",
   "execution_count": 199,
   "id": "4d687742-bed7-45f3-8a87-cf83cb9ac1e4",
   "metadata": {},
   "outputs": [
    {
     "ename": "TypeError",
     "evalue": "'module' object is not callable",
     "output_type": "error",
     "traceback": [
      "\u001b[1;31m---------------------------------------------------------------------------\u001b[0m",
      "\u001b[1;31mTypeError\u001b[0m                                 Traceback (most recent call last)",
      "Cell \u001b[1;32mIn[199], line 1\u001b[0m\n\u001b[1;32m----> 1\u001b[0m os\u001b[38;5;241m.\u001b[39mpath(\u001b[38;5;124mr\u001b[39m\u001b[38;5;124m'\u001b[39m\u001b[38;5;124mC:\u001b[39m\u001b[38;5;124m\\\u001b[39m\u001b[38;5;124mUsers\u001b[39m\u001b[38;5;124m\\\u001b[39m\u001b[38;5;124mservi\u001b[39m\u001b[38;5;124m\\\u001b[39m\u001b[38;5;124mDownloads\u001b[39m\u001b[38;5;124m\\\u001b[39m\u001b[38;5;124mPAGO_Transações_26-02-2025_17-16-59.csv\u001b[39m\u001b[38;5;124m'\u001b[39m, \u001b[38;5;124m'\u001b[39m\u001b[38;5;124masd\u001b[39m\u001b[38;5;124m'\u001b[39m)\n",
      "\u001b[1;31mTypeError\u001b[0m: 'module' object is not callable"
     ]
    }
   ],
   "source": [
    "os.path(r'C:\\Users\\servi\\Downloads\\PAGO_Transações_26-02-2025_17-16-59.csv', 'asd')"
   ]
  },
  {
   "cell_type": "code",
   "execution_count": 193,
   "id": "a9fd3b4e-ef4e-4c40-a44c-c01840c10081",
   "metadata": {},
   "outputs": [
    {
     "data": {
      "text/plain": [
       "['698720-atividades-2025-02-05-17-20-10.xlsx',\n",
       " '698720-negocios-2025-02-03-21-53-59.xlsx',\n",
       " '698720-negocios-2025-02-04-12-35-35.xlsx',\n",
       " '698720-negocios-2025-02-11-14-37-42.xlsx',\n",
       " '698720-negocios-2025-02-14-13-52-50.xlsx',\n",
       " 'Anaconda3-2024.10-1-Windows-x86_64.exe',\n",
       " 'Backup Service-20250205T133658Z-001.zip',\n",
       " 'CCMEI-59421724000151.pdf',\n",
       " 'chrome-win64.zip',\n",
       " 'ChromeSetup.exe',\n",
       " 'Controle estoque inter (1).xlsx',\n",
       " 'Controle estoque inter (2).xlsx',\n",
       " 'Controle estoque inter (3).xlsx',\n",
       " 'Controle estoque inter (4).xlsx',\n",
       " 'Controle estoque inter (5).xlsx',\n",
       " 'Controle estoque inter (6).xlsx',\n",
       " 'Controle estoque inter - Copia.xlsx',\n",
       " 'Controle estoque inter.xlsx',\n",
       " 'Controle Service.xlsx',\n",
       " 'Credito Essencial Clientes_ Transações.xlsx',\n",
       " 'desktop.ini',\n",
       " 'Downloads - Atalho.lnk',\n",
       " 'Git-2.47.1.2-64-bit.exe',\n",
       " 'GoogleDriveSetup.exe',\n",
       " 'node-v22.14.0-x64.msi',\n",
       " 'Notion Setup 4.4.0.exe',\n",
       " 'Não confirmado 298403.crdownload',\n",
       " 'Não confirmado 491968.crdownload',\n",
       " 'Não confirmado 733326.crdownload',\n",
       " 'PAGO_Transações_24-02-2025_17-03-57.csv',\n",
       " 'PAGO_Transações_25-02-2025_16-34-58.csv',\n",
       " 'PAGO_Transações_25-02-2025_16-35-12.csv',\n",
       " 'PAGO_Transações_25-02-2025_16-36-00.csv',\n",
       " 'PAGO_Transações_26-02-2025_12-32-28.csv',\n",
       " 'PAGO_Transações_26-02-2025_16-23-25.csv',\n",
       " 'PAGO_Transações_26-02-2025_17-04-06.csv',\n",
       " 'PAGO_Transações_26-02-2025_17-05-16.csv',\n",
       " 'PAGO_Transações_26-02-2025_17-07-44.csv',\n",
       " 'PAGO_Transações_26-02-2025_17-08-39.csv',\n",
       " 'PAGO_Transações_26-02-2025_17-09-53.csv',\n",
       " 'PAGO_Transações_26-02-2025_17-14-10.csv',\n",
       " 'PAGO_Transações_26-02-2025_17-14-13.csv',\n",
       " 'PAGO_Transações_26-02-2025_17-14-21.csv',\n",
       " 'PAGO_Transações_26-02-2025_17-14-26.csv',\n",
       " 'PAGO_Transações_26-02-2025_17-14-32.csv',\n",
       " 'PAGO_Transações_26-02-2025_17-14-35.csv',\n",
       " 'PAGO_Transações_26-02-2025_17-14-41.csv',\n",
       " 'PAGO_Transações_26-02-2025_17-15-04.csv',\n",
       " 'PAGO_Transações_26-02-2025_17-15-23.csv',\n",
       " 'PAGO_Transações_26-02-2025_17-15-49.csv',\n",
       " 'PAGO_Transações_26-02-2025_17-15-52.csv',\n",
       " 'PAGO_Transações_26-02-2025_17-15-58.csv',\n",
       " 'PAGO_Transações_26-02-2025_17-16-01.csv',\n",
       " 'PAGO_Transações_26-02-2025_17-16-04.csv',\n",
       " 'PAGO_Transações_26-02-2025_17-16-10.csv',\n",
       " 'PAGO_Transações_26-02-2025_17-16-13.csv',\n",
       " 'PAGO_Transações_26-02-2025_17-16-23.csv',\n",
       " 'PAGO_Transações_26-02-2025_17-16-27.csv',\n",
       " 'PAGO_Transações_26-02-2025_17-16-30.csv',\n",
       " 'PAGO_Transações_26-02-2025_17-16-33.csv',\n",
       " 'PAGO_Transações_26-02-2025_17-16-41.csv',\n",
       " 'PAGO_Transações_26-02-2025_17-16-47.csv',\n",
       " 'PAGO_Transações_26-02-2025_17-16-50.csv',\n",
       " 'PAGO_Transações_26-02-2025_17-16-56.csv',\n",
       " 'PAGO_Transações_26-02-2025_17-16-59.csv',\n",
       " 'PAGO_Transações_26-02-2025_17-17-17.csv',\n",
       " 'PAGO_Transações_26-02-2025_17-17-22.csv',\n",
       " 'PAGO_Transações_26-02-2025_17-17-28.csv',\n",
       " 'PAGO_Transações_26-02-2025_17-17-38.csv',\n",
       " 'PAGO_Transações_26-02-2025_17-17-41.csv',\n",
       " 'PAGO_Transações_26-02-2025_17-17-47.csv',\n",
       " 'PAGO_Transações_26-02-2025_17-17-50.csv',\n",
       " 'PAGO_Transações_26-02-2025_17-17-58.csv',\n",
       " 'PAGO_Transações_26-02-2025_17-18-04.csv',\n",
       " 'PAGO_Transações_26-02-2025_17-18-07.csv',\n",
       " 'PAGO_Transações_26-02-2025_17-18-20.csv',\n",
       " 'PAGO_Transações_26-02-2025_17-18-24.csv',\n",
       " 'PAGO_Transações_26-02-2025_17-18-27.csv',\n",
       " 'PAGO_Transações_26-02-2025_17-18-30.csv',\n",
       " 'Partilha Solidária - Dez24 (1).xlsx',\n",
       " 'Partilha Solidária - Dez24.xlsx',\n",
       " 'Partilha solidária - Jan25 (2).xlsx',\n",
       " 'Partilha Solidária - Jan25.xlsx',\n",
       " 'python-3.13.1-amd64 (1).exe',\n",
       " 'python-3.13.1-amd64 (2).exe',\n",
       " 'python-3.13.1-amd64.exe',\n",
       " 'python-3.13.2-amd64.exe',\n",
       " 'R-4.4.2-win.exe',\n",
       " 'Ramos proibidos e restritos  - Julho -2024.xlsx',\n",
       " 'RStudio-2024.12.0-467.exe',\n",
       " 'Transações Negadas.xlsx',\n",
       " 'VSCodeUserSetup-x64-1.96.4.exe',\n",
       " 'WhatsApp Installer.exe',\n",
       " 'ZapSign_Template_Contrato Comodato Maquininha - Carnaval Essencial V2_Answers_2025_02_21.xlsx']"
      ]
     },
     "execution_count": 193,
     "metadata": {},
     "output_type": "execute_result"
    }
   ],
   "source": [
    "os.listdir(r'C:\\Users\\servi\\Downloads')"
   ]
  },
  {
   "cell_type": "code",
   "execution_count": null,
   "id": "ddd43c6d-7630-42cd-85a9-90b9383c5b28",
   "metadata": {},
   "outputs": [],
   "source": []
  }
 ],
 "metadata": {
  "kernelspec": {
   "display_name": "Python [conda env:base] *",
   "language": "python",
   "name": "conda-base-py"
  },
  "language_info": {
   "codemirror_mode": {
    "name": "ipython",
    "version": 3
   },
   "file_extension": ".py",
   "mimetype": "text/x-python",
   "name": "python",
   "nbconvert_exporter": "python",
   "pygments_lexer": "ipython3",
   "version": "3.12.7"
  }
 },
 "nbformat": 4,
 "nbformat_minor": 5
}
